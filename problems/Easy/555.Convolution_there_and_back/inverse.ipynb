{
 "cells": [
  {
   "cell_type": "code",
   "execution_count": 2,
   "metadata": {},
   "outputs": [],
   "source": [
    "import numpy as np\n",
    "from scipy import linalg"
   ]
  },
  {
   "cell_type": "code",
   "execution_count": 10,
   "metadata": {},
   "outputs": [],
   "source": [
    "A1 = np.array([\n",
    "    range(1, 7) for _ in range(6)\n",
    "])\n",
    "C1 = np.array([\n",
    "    range(1, 7) for _ in range(6)\n",
    "])"
   ]
  },
  {
   "cell_type": "code",
   "execution_count": 15,
   "metadata": {},
   "outputs": [],
   "source": [
    "a1 = A1.tolist()\n",
    "c1 = C1.tolist()"
   ]
  },
  {
   "cell_type": "code",
   "execution_count": 16,
   "metadata": {},
   "outputs": [],
   "source": [
    "n, m = A1.shape\n",
    "p, q = C1.shape\n",
    "k = n - p + 1\n",
    "\n",
    "equations = []\n",
    "b_values = []\n",
    "\n",
    "for i in range(p):\n",
    "    for j in range(q):\n",
    "        eq = np.zeros((k, k))\n",
    "        for x in range(k):\n",
    "            for y in range(k):\n",
    "                eq[x, y] = A1[i+x, j+y]\n",
    "        equations.append(eq.flatten())\n",
    "        b_values.append(C1[i, j])\n",
    "\n",
    "equations = np.array(equations)\n",
    "b_values = np.array(b_values)\n",
    "    "
   ]
  },
  {
   "cell_type": "code",
   "execution_count": 21,
   "metadata": {},
   "outputs": [],
   "source": [
    "B_flat = linalg.lstsq(equations, b_values)[0]\n",
    "B = B_flat.reshape((k, k))"
   ]
  },
  {
   "cell_type": "code",
   "execution_count": 26,
   "metadata": {},
   "outputs": [
    {
     "data": {
      "text/plain": [
       "[[1.0]]"
      ]
     },
     "execution_count": 26,
     "metadata": {},
     "output_type": "execute_result"
    }
   ],
   "source": [
    "np.rint(B, ).tolist()"
   ]
  },
  {
   "cell_type": "code",
   "execution_count": 27,
   "metadata": {},
   "outputs": [],
   "source": [
    "a = \"\"\"-48 -47 -5 58 -93\n",
    "35 -26 42 -58 -59\n",
    "-37 30 20 100 -83\n",
    "43 -99 -9 19 -48\n",
    "93 37 -84 -99 84\"\"\"\n",
    "c = \"\"\"-2688 10345 -6343 -9836\n",
    "1671 3474 1850 -13016\n",
    "-8449 5224 4502 -18620\n",
    "-11835 -2233 -1057 12591\"\"\""
   ]
  },
  {
   "cell_type": "code",
   "execution_count": 41,
   "metadata": {},
   "outputs": [],
   "source": [
    "A2 = np.array([list(map(int, row.split())) for row in a.split(\"\\n\")])\n",
    "C2 = np.array([list(map(int, row.split())) for row in c.split(\"\\n\")])"
   ]
  },
  {
   "cell_type": "code",
   "execution_count": 42,
   "metadata": {},
   "outputs": [
    {
     "data": {
      "text/plain": [
       "array([[-48, -47,  -5,  58, -93],\n",
       "       [ 35, -26,  42, -58, -59],\n",
       "       [-37,  30,  20, 100, -83],\n",
       "       [ 43, -99,  -9,  19, -48],\n",
       "       [ 93,  37, -84, -99,  84]])"
      ]
     },
     "execution_count": 42,
     "metadata": {},
     "output_type": "execute_result"
    }
   ],
   "source": [
    "A2"
   ]
  },
  {
   "cell_type": "code",
   "execution_count": 43,
   "metadata": {},
   "outputs": [
    {
     "data": {
      "text/plain": [
       "array([[ -2688,  10345,  -6343,  -9836],\n",
       "       [  1671,   3474,   1850, -13016],\n",
       "       [ -8449,   5224,   4502, -18620],\n",
       "       [-11835,  -2233,  -1057,  12591]])"
      ]
     },
     "execution_count": 43,
     "metadata": {},
     "output_type": "execute_result"
    }
   ],
   "source": [
    "C2"
   ]
  },
  {
   "cell_type": "code",
   "execution_count": 44,
   "metadata": {},
   "outputs": [],
   "source": [
    "n, m = A2.shape\n",
    "p, q = C2.shape\n",
    "k = n - p + 1\n",
    "\n",
    "equations = []\n",
    "b_values = []\n",
    "\n",
    "for i in range(p):\n",
    "    for j in range(q):\n",
    "        eq = np.zeros((k, k))\n",
    "        for x in range(k):\n",
    "            for y in range(k):\n",
    "                eq[x, y] = A2[i+x, j+y]\n",
    "        equations.append(eq.flatten())\n",
    "        b_values.append(C2[i, j])\n",
    "\n",
    "equations = np.array(equations)\n",
    "b_values = np.array(b_values)\n",
    "    "
   ]
  },
  {
   "cell_type": "code",
   "execution_count": 45,
   "metadata": {},
   "outputs": [],
   "source": [
    "B_flat = linalg.lstsq(equations, b_values)[0]\n",
    "B = B_flat.reshape((k, k))"
   ]
  },
  {
   "cell_type": "code",
   "execution_count": 52,
   "metadata": {},
   "outputs": [
    {
     "data": {
      "text/plain": [
       "[[-92, 37], [-82, 96]]"
      ]
     },
     "execution_count": 52,
     "metadata": {},
     "output_type": "execute_result"
    }
   ],
   "source": [
    "B.astype(int).tolist()"
   ]
  },
  {
   "cell_type": "code",
   "execution_count": null,
   "metadata": {},
   "outputs": [],
   "source": []
  }
 ],
 "metadata": {
  "kernelspec": {
   "display_name": ".venv",
   "language": "python",
   "name": "python3"
  },
  "language_info": {
   "codemirror_mode": {
    "name": "ipython",
    "version": 3
   },
   "file_extension": ".py",
   "mimetype": "text/x-python",
   "name": "python",
   "nbconvert_exporter": "python",
   "pygments_lexer": "ipython3",
   "version": "3.7.17"
  }
 },
 "nbformat": 4,
 "nbformat_minor": 2
}

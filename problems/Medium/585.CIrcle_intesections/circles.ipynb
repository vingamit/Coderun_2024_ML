{
 "cells": [
  {
   "cell_type": "code",
   "execution_count": 1,
   "metadata": {},
   "outputs": [],
   "source": [
    "import numpy as np\n",
    "from time import time\n",
    "from scipy.integrate import dblquad"
   ]
  },
  {
   "cell_type": "code",
   "execution_count": 2,
   "metadata": {},
   "outputs": [],
   "source": [
    "with open(\"data/data.txt\", 'r') as file:\n",
    "    tripls = []\n",
    "    for line in file.readlines():\n",
    "        x1, y1, r1, x2, y2, r2, x3, y3, r3 = map(int, line.rstrip().split())\n",
    "        tripls.append([(x1, y1, r1), (x2, y2, r2), (x3, y3, r3)])\n",
    "with open(\"data/enrich.txt\", \"r\") as file:\n",
    "    area = []\n",
    "    for line in file.readlines():\n",
    "        mas = list(map(int, line.rstrip().split()))\n",
    "        area.append(mas)"
   ]
  },
  {
   "cell_type": "markdown",
   "metadata": {},
   "source": [
    "Решаю монтекарлом(и ручной разметкой, но наверное было бы лучше решить методом прямоугольников):("
   ]
  },
  {
   "cell_type": "code",
   "execution_count": 7,
   "metadata": {},
   "outputs": [
    {
     "name": "stdout",
     "output_type": "stream",
     "text": [
      "7.6000439676000004\n",
      "2.283509436\n"
     ]
    },
    {
     "ename": "KeyboardInterrupt",
     "evalue": "",
     "output_type": "error",
     "traceback": [
      "\u001b[0;31m---------------------------------------------------------------------------\u001b[0m",
      "\u001b[0;31mKeyboardInterrupt\u001b[0m                         Traceback (most recent call last)",
      "Cell \u001b[0;32mIn[7], line 7\u001b[0m\n\u001b[1;32m      5\u001b[0m num \u001b[38;5;241m=\u001b[39m \u001b[38;5;241m0\u001b[39m\n\u001b[1;32m      6\u001b[0m \u001b[38;5;28;01mfor\u001b[39;00m _ \u001b[38;5;129;01min\u001b[39;00m \u001b[38;5;28mrange\u001b[39m(\u001b[38;5;241m100\u001b[39m):\n\u001b[0;32m----> 7\u001b[0m     x \u001b[38;5;241m=\u001b[39m min_x \u001b[38;5;241m+\u001b[39m \u001b[43mnp\u001b[49m\u001b[38;5;241;43m.\u001b[39;49m\u001b[43mrandom\u001b[49m\u001b[38;5;241;43m.\u001b[39;49m\u001b[43mrandom\u001b[49m\u001b[43m(\u001b[49m\u001b[38;5;241;43m100_000_000\u001b[39;49m\u001b[43m)\u001b[49m \u001b[38;5;241m*\u001b[39m delta_x\n\u001b[1;32m      8\u001b[0m     y \u001b[38;5;241m=\u001b[39m min_y \u001b[38;5;241m+\u001b[39m np\u001b[38;5;241m.\u001b[39mrandom\u001b[38;5;241m.\u001b[39mrandom(\u001b[38;5;241m100_000_000\u001b[39m) \u001b[38;5;241m*\u001b[39m delta_y\n\u001b[1;32m      9\u001b[0m     fim \u001b[38;5;241m=\u001b[39m ((x \u001b[38;5;241m-\u001b[39m fi[\u001b[38;5;241m0\u001b[39m]) \u001b[38;5;241m*\u001b[39m\u001b[38;5;241m*\u001b[39m \u001b[38;5;241m2\u001b[39m \u001b[38;5;241m+\u001b[39m (y \u001b[38;5;241m-\u001b[39m fi[\u001b[38;5;241m1\u001b[39m]) \u001b[38;5;241m*\u001b[39m\u001b[38;5;241m*\u001b[39m \u001b[38;5;241m2\u001b[39m) \u001b[38;5;241m<\u001b[39m fi[\u001b[38;5;241m2\u001b[39m] \u001b[38;5;241m*\u001b[39m\u001b[38;5;241m*\u001b[39m \u001b[38;5;241m2\u001b[39m\n",
      "\u001b[0;31mKeyboardInterrupt\u001b[0m: "
     ]
    }
   ],
   "source": [
    "res = []\n",
    "\n",
    "for (fi, se, th), centr in zip(tripls, area):\n",
    "    min_x, min_y, delta_x, delta_y = centr\n",
    "    num = 0\n",
    "    for _ in range(100):\n",
    "        x = min_x + np.random.random(100_000_000) * delta_x\n",
    "        y = min_y + np.random.random(100_000_000) * delta_y\n",
    "        fim = ((x - fi[0]) ** 2 + (y - fi[1]) ** 2) < fi[2] ** 2\n",
    "        sem = ((x - se[0]) ** 2 + (y - se[1]) ** 2) < se[2] ** 2\n",
    "        thm = ((x - th[0]) ** 2 + (y - th[1]) ** 2) < th[2] ** 2\n",
    "\n",
    "        num  += (fim & sem & thm).sum()\n",
    "    part = num / 10_000_000_000\n",
    "    print(part * delta_x * delta_y)\n",
    "    res.append(part * delta_x * delta_y)\n",
    "\n"
   ]
  },
  {
   "cell_type": "code",
   "execution_count": 41,
   "metadata": {},
   "outputs": [],
   "source": [
    "with open('data/data.txt') as file:\n",
    "    date = []\n",
    "    for line in file.readlines():\n",
    "        row = list(map(int, line.rstrip().split()))\n",
    "        date.append(row)"
   ]
  },
  {
   "cell_type": "code",
   "execution_count": 48,
   "metadata": {},
   "outputs": [],
   "source": [
    "def circle_intersection_area(x1, y1, r1, x2, y2, r2, x3, y3, r3):\n",
    "    def f(x, y):\n",
    "        a1 = ((x - x1) ** 2 + (y - y1) ** 2) <= r1 ** 2\n",
    "        a2 = ((x - x2) ** 2 + (y - y2) ** 2) <= r2 ** 2\n",
    "        a3 = ((x - x3) ** 2 + (y - y3) ** 2) <= r3 ** 2\n",
    "        return (a1 & a2 & a3)\n",
    "    \n",
    "    x_min = min(x1 - r1, x2 - r2, x3 - r3)\n",
    "    x_max = max(x1 + r1, x2 + r2, x3 + r3)\n",
    "    y_min = min(y1 - r1, y2 - r2, y3 - r3)\n",
    "    y_max = max(y1 + r1, y2 + r2, y3 + r3)\n",
    "\n",
    "    area, _ = dblquad(f, x_min, x_max, lambda x: y_min, lambda x: y_max)\n",
    "    return area"
   ]
  },
  {
   "cell_type": "code",
   "execution_count": null,
   "metadata": {},
   "outputs": [],
   "source": [
    "# results = []\n",
    "# for row in date:\n",
    "#     start = time()\n",
    "#     res = circle_intersection_area(*row)\n",
    "#     print(res, time() - start)\n",
    "#     results.append(res)"
   ]
  },
  {
   "cell_type": "code",
   "execution_count": null,
   "metadata": {},
   "outputs": [],
   "source": [
    "# print(*results, sep='\\n')"
   ]
  },
  {
   "cell_type": "code",
   "execution_count": 24,
   "metadata": {},
   "outputs": [],
   "source": [
    "formulas = []\n",
    "with open('data/data.txt', 'r') as file:\n",
    "    for i, line in enumerate(file.readlines()):\n",
    "        x1, y1, r1, x2, y2, r2, x3, y3, r3 = list(map(int, line.split()))\n",
    "        string = (f\"(x - {x1})^2 + (y - {y1})^2 <= {r1 ** 2}\\n\"\n",
    "            f\"(x - {x2})^2 + (y - {y2})^2 <= {r2 ** 2}\\n\"\n",
    "            f\"(x - {x3})^2 + (y - {y3})^2 <= {r3 ** 2}\\n\"\n",
    "        )\n",
    "        formulas.append(f\"{i + 1}.\\n\")\n",
    "        formulas.append(string)"
   ]
  },
  {
   "cell_type": "code",
   "execution_count": 25,
   "metadata": {},
   "outputs": [],
   "source": [
    "with open(\"formulas.txt\", 'w') as file:\n",
    "    file.write(\"\".join(formulas))"
   ]
  },
  {
   "cell_type": "code",
   "execution_count": null,
   "metadata": {},
   "outputs": [],
   "source": []
  }
 ],
 "metadata": {
  "kernelspec": {
   "display_name": ".venv",
   "language": "python",
   "name": "python3"
  },
  "language_info": {
   "codemirror_mode": {
    "name": "ipython",
    "version": 3
   },
   "file_extension": ".py",
   "mimetype": "text/x-python",
   "name": "python",
   "nbconvert_exporter": "python",
   "pygments_lexer": "ipython3",
   "version": "3.10.12"
  }
 },
 "nbformat": 4,
 "nbformat_minor": 2
}

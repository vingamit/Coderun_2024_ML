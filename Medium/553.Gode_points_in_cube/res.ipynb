{
 "cells": [
  {
   "cell_type": "code",
   "execution_count": 1,
   "metadata": {},
   "outputs": [],
   "source": [
    "import numpy as np"
   ]
  },
  {
   "cell_type": "code",
   "execution_count": 2,
   "metadata": {},
   "outputs": [],
   "source": [
    "from numpy import dot, sqrt\n",
    "\n",
    "cube_points = np.array([\n",
    "        [0, 0, 0],\n",
    "        [0, 0, 1],\n",
    "        [0, 1, 0],\n",
    "        [0, 1, 1],\n",
    "        [1, 0, 0],\n",
    "        [1, 0, 1],\n",
    "        [1, 1, 0],\n",
    "        [1, 1, 1],\n",
    "    ], dtype=float,\n",
    "    )\n",
    "\n",
    "def nearest(val):\n",
    "    dist = lambda x, y: sqrt(dot(x, x) - 2 * dot(x, y) + dot(y, y))\n",
    "    min_d = min(dist(points, val) for points in cube_points)\n",
    "    return min_d > 0.75"
   ]
  },
  {
   "cell_type": "code",
   "execution_count": 3,
   "metadata": {},
   "outputs": [
    {
     "data": {
      "text/plain": [
       "32768"
      ]
     },
     "execution_count": 3,
     "metadata": {},
     "output_type": "execute_result"
    }
   ],
   "source": [
    "2 << 14"
   ]
  },
  {
   "cell_type": "code",
   "execution_count": 4,
   "metadata": {},
   "outputs": [
    {
     "data": {
      "text/plain": [
       "4194304"
      ]
     },
     "execution_count": 4,
     "metadata": {},
     "output_type": "execute_result"
    }
   ],
   "source": [
    "2 << 21"
   ]
  },
  {
   "cell_type": "code",
   "execution_count": 5,
   "metadata": {},
   "outputs": [],
   "source": [
    "def calc_for_2_15():\n",
    "    n = 65536\n",
    "    points = np.random.random((n, 3))\n",
    "    return sum(map(nearest, points)) / n"
   ]
  },
  {
   "cell_type": "code",
   "execution_count": 6,
   "metadata": {},
   "outputs": [],
   "source": [
    "results = []"
   ]
  },
  {
   "cell_type": "code",
   "execution_count": 9,
   "metadata": {},
   "outputs": [
    {
     "name": "stdout",
     "output_type": "stream",
     "text": [
      "0.012380391359329224\n"
     ]
    }
   ],
   "source": [
    "from concurrent.futures import ProcessPoolExecutor\n",
    "\n",
    "def calc_for_2_14(seed):\n",
    "    np.random.seed(seed)\n",
    "    n = 2 << 14\n",
    "    res = 0\n",
    "    for _ in range(2 << 4):\n",
    "        points = np.random.random((n, 3))\n",
    "        res += sum(map(nearest, points))\n",
    "    return res\n",
    "\n",
    "with ProcessPoolExecutor(max_workers=11) as executor:\n",
    "    futures = [executor.submit(calc_for_2_14, i) for i in range(2 << 4)]\n",
    "\n",
    "    result = sum(future.result() for future in futures) / (2 << 24)\n",
    "\n",
    "    print(result)\n",
    "    results.append(result)\n",
    "\n"
   ]
  },
  {
   "cell_type": "code",
   "execution_count": 10,
   "metadata": {},
   "outputs": [
    {
     "data": {
      "text/plain": [
       "[0.012223243713378906, 0.012380391359329224]"
      ]
     },
     "execution_count": 10,
     "metadata": {},
     "output_type": "execute_result"
    }
   ],
   "source": [
    "results"
   ]
  },
  {
   "cell_type": "code",
   "execution_count": 27,
   "metadata": {},
   "outputs": [],
   "source": [
    "from numpy import dot, sqrt\n",
    "import os\n",
    "import time\n",
    "\n",
    "cube_points = np.array([\n",
    "        [0, 0, 0],\n",
    "        [0, 0, 1],\n",
    "        [0, 1, 0],\n",
    "        [0, 1, 1],\n",
    "        [1, 0, 0],\n",
    "        [1, 0, 1],\n",
    "        [1, 1, 0],\n",
    "        [1, 1, 1],\n",
    "    ], dtype=float,\n",
    "    )\n",
    "\n",
    "def nearest(val):\n",
    "    dist = lambda x, y: sqrt(dot(x, x) - 2 * dot(x, y) + dot(y, y))\n",
    "    min_d = min(dist(points, val) for points in cube_points)\n",
    "    return min_d > 0.75\n",
    "\n",
    "def initialize_seed():\n",
    "    np.random.seed((os.getpid() * int(time.time())) % 123456789)    \n",
    "\n",
    "def calc_for_2_14():\n",
    "    n = 2 << 15\n",
    "    points = np.random.random((n, 3))\n",
    "    res = sum(map(nearest, points))\n",
    "    return res, n\n",
    "\n",
    "with ProcessPoolExecutor(max_workers=11, initializer=initialize_seed) as executor:\n",
    "    futures = [executor.submit(calc_for_2_14) for _ in range(110)]\n",
    "    num, deno = 0, 0\n",
    "    for future in futures:\n",
    "        x, y = future.result()\n",
    "        num += x\n",
    "        deno += y"
   ]
  },
  {
   "cell_type": "code",
   "execution_count": 28,
   "metadata": {},
   "outputs": [
    {
     "data": {
      "text/plain": [
       "0.01243868741122159"
      ]
     },
     "execution_count": 28,
     "metadata": {},
     "output_type": "execute_result"
    }
   ],
   "source": [
    "num / deno"
   ]
  },
  {
   "cell_type": "code",
   "execution_count": 53,
   "metadata": {},
   "outputs": [
    {
     "data": {
      "text/plain": [
       "23.2514967918396"
      ]
     },
     "execution_count": 53,
     "metadata": {},
     "output_type": "execute_result"
    }
   ],
   "source": [
    "def calc_for_2_14():\n",
    "    n = 2 << 10\n",
    "    points = np.random.random((n, 3))\n",
    "    res = sum(map(nearest, points))\n",
    "    return res, n\n",
    "\n",
    "start = time.time()\n",
    "\n",
    "for i in range(2 << 7):\n",
    "    calc_for_2_14()\n",
    "\n",
    "time.time() - start"
   ]
  },
  {
   "cell_type": "code",
   "execution_count": 56,
   "metadata": {},
   "outputs": [
    {
     "data": {
      "text/plain": [
       "0.012404"
      ]
     },
     "execution_count": 56,
     "metadata": {},
     "output_type": "execute_result"
    }
   ],
   "source": [
    "round(0.012403696775436401, 6)"
   ]
  },
  {
   "cell_type": "code",
   "execution_count": 54,
   "metadata": {},
   "outputs": [
    {
     "data": {
      "text/plain": [
       "19.787242650985718"
      ]
     },
     "execution_count": 54,
     "metadata": {},
     "output_type": "execute_result"
    }
   ],
   "source": [
    "def calc_for_2_14():\n",
    "    n = 2 << 18\n",
    "    points = np.random.random((n, 3))\n",
    "    res = sum(map(nearest, points))\n",
    "    return res, n\n",
    "\n",
    "start = time.time()\n",
    "\n",
    "for i in range(1):\n",
    "    calc_for_2_14()\n",
    "\n",
    "time.time() - start"
   ]
  },
  {
   "cell_type": "code",
   "execution_count": 30,
   "metadata": {},
   "outputs": [
    {
     "data": {
      "text/plain": [
       "0.012439"
      ]
     },
     "execution_count": 30,
     "metadata": {},
     "output_type": "execute_result"
    }
   ],
   "source": [
    "round(0.01243868741122159, 6)"
   ]
  },
  {
   "cell_type": "code",
   "execution_count": 29,
   "metadata": {},
   "outputs": [
    {
     "data": {
      "text/plain": [
       "0.012447565252130682"
      ]
     },
     "execution_count": 29,
     "metadata": {},
     "output_type": "execute_result"
    }
   ],
   "source": [
    "0.012447565252130682"
   ]
  },
  {
   "cell_type": "code",
   "execution_count": 57,
   "metadata": {},
   "outputs": [
    {
     "data": {
      "text/plain": [
       "1722153154"
      ]
     },
     "execution_count": 57,
     "metadata": {},
     "output_type": "execute_result"
    }
   ],
   "source": [
    "int(time.time())"
   ]
  },
  {
   "cell_type": "code",
   "execution_count": 22,
   "metadata": {},
   "outputs": [
    {
     "data": {
      "text/plain": [
       "0.012226451526988636"
      ]
     },
     "execution_count": 22,
     "metadata": {},
     "output_type": "execute_result"
    }
   ],
   "source": [
    "num / deno"
   ]
  },
  {
   "cell_type": "code",
   "execution_count": 58,
   "metadata": {},
   "outputs": [],
   "source": [
    "from decimal import Decimal"
   ]
  },
  {
   "cell_type": "code",
   "execution_count": 59,
   "metadata": {},
   "outputs": [
    {
     "data": {
      "text/plain": [
       "Decimal('0.012408')"
      ]
     },
     "execution_count": 59,
     "metadata": {},
     "output_type": "execute_result"
    }
   ],
   "source": [
    "num , deno = map(int, '3330814, 268435456'.split(', '))\n",
    "round(Decimal(num) / Decimal(deno), 6)"
   ]
  },
  {
   "cell_type": "code",
   "execution_count": 62,
   "metadata": {},
   "outputs": [
    {
     "data": {
      "text/plain": [
       "Decimal('0.012408249080181121826171875')"
      ]
     },
     "execution_count": 62,
     "metadata": {},
     "output_type": "execute_result"
    }
   ],
   "source": [
    "Decimal(num) / Decimal(deno)"
   ]
  },
  {
   "cell_type": "code",
   "execution_count": 61,
   "metadata": {},
   "outputs": [
    {
     "data": {
      "text/plain": [
       "0.012408249080181122"
      ]
     },
     "execution_count": 61,
     "metadata": {},
     "output_type": "execute_result"
    }
   ],
   "source": [
    "num / deno"
   ]
  },
  {
   "cell_type": "code",
   "execution_count": 68,
   "metadata": {},
   "outputs": [
    {
     "data": {
      "text/plain": [
       "0.012237548828125"
      ]
     },
     "execution_count": 68,
     "metadata": {},
     "output_type": "execute_result"
    }
   ],
   "source": [
    "n = 65536\n",
    "points = np.random.random((n, 3))\n",
    "sum(map(nearest, points)) / n"
   ]
  },
  {
   "cell_type": "code",
   "execution_count": 46,
   "metadata": {},
   "outputs": [
    {
     "data": {
      "text/plain": [
       "array([[0.42130257, 0.35022548, 0.36289617],\n",
       "       [0.01480964, 0.55571551, 0.38307049],\n",
       "       [0.15173576, 0.43530402, 0.29164898],\n",
       "       [0.72850907, 0.65670861, 0.52300356],\n",
       "       [0.70241409, 0.53594554, 0.97958799],\n",
       "       [0.33311322, 0.32451896, 0.26230708],\n",
       "       [0.08170829, 0.82335121, 0.65376785],\n",
       "       [0.10350639, 0.20537359, 0.28906752],\n",
       "       [0.14529121, 0.45859735, 0.50241025],\n",
       "       [0.88943368, 0.90175475, 0.7216957 ]])"
      ]
     },
     "execution_count": 46,
     "metadata": {},
     "output_type": "execute_result"
    }
   ],
   "source": [
    "np.random.random((10, 3))"
   ]
  },
  {
   "cell_type": "code",
   "execution_count": null,
   "metadata": {},
   "outputs": [],
   "source": []
  }
 ],
 "metadata": {
  "kernelspec": {
   "display_name": ".venv",
   "language": "python",
   "name": "python3"
  },
  "language_info": {
   "codemirror_mode": {
    "name": "ipython",
    "version": 3
   },
   "file_extension": ".py",
   "mimetype": "text/x-python",
   "name": "python",
   "nbconvert_exporter": "python",
   "pygments_lexer": "ipython3",
   "version": "3.7.17"
  }
 },
 "nbformat": 4,
 "nbformat_minor": 2
}

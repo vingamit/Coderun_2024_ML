{
  "nbformat": 4,
  "nbformat_minor": 0,
  "metadata": {
    "colab": {
      "provenance": [],
      "collapsed_sections": [
        "AUvExiVdF8AM",
        "dX7kQoCIWDZ8",
        "LKkfxYukWIui",
        "xoNai7yRWLj8",
        "lsWNnu2xqou6",
        "dArGltxDhmoR",
        "7s6U1Pr7Fg1d"
      ]
    },
    "kernelspec": {
      "name": "python3",
      "display_name": "Python 3"
    },
    "language_info": {
      "name": "python"
    }
  },
  "cells": [
    {
      "cell_type": "markdown",
      "source": [
        "### Donwload Data"
      ],
      "metadata": {
        "id": "AUvExiVdF8AM"
      }
    },
    {
      "cell_type": "code",
      "source": [
        "import requests\n",
        "from urllib.parse import urlencode\n",
        "\n",
        "\n",
        "def download(public_key: str, file_name: str):\n",
        "    base_url = 'https://cloud-api.yandex.net/v1/disk/public/resources/download?'\n",
        "\n",
        "    # Получаем загрузочную ссылку\n",
        "    final_url = base_url + urlencode(dict(public_key=public_key))\n",
        "    response = requests.get(final_url)\n",
        "    download_url = response.json()['href']\n",
        "\n",
        "    # Загружаем файл и сохраняем его\n",
        "    download_response = requests.get(download_url)\n",
        "    with open(file_name, 'wb') as f:   # Здесь укажите нужный путь к файлу\n",
        "        f.write(download_response.content)"
      ],
      "metadata": {
        "id": "-qaIoB4KGAIa"
      },
      "execution_count": null,
      "outputs": []
    },
    {
      "cell_type": "code",
      "source": [
        "download('https://disk.yandex.ru/d/MR3TQAMSWcbRTA', 'train.csv')"
      ],
      "metadata": {
        "id": "7_pBaq_yGOqd"
      },
      "execution_count": null,
      "outputs": []
    },
    {
      "cell_type": "code",
      "source": [
        "download('https://disk.yandex.ru/d/0rIpN8xRGkqHDA', 'test.csv')"
      ],
      "metadata": {
        "id": "S0uI9Bj0Gcub"
      },
      "execution_count": null,
      "outputs": []
    },
    {
      "cell_type": "markdown",
      "source": [
        "### Main Code"
      ],
      "metadata": {
        "id": "YINe_yIqGwnH"
      }
    },
    {
      "cell_type": "markdown",
      "source": [
        "#### 1"
      ],
      "metadata": {
        "id": "dX7kQoCIWDZ8"
      }
    },
    {
      "cell_type": "code",
      "source": [
        "import numpy as np\n",
        "import pandas as pd\n",
        "from sklearn.feature_extraction.text import CountVectorizer\n",
        "from sklearn.naive_bayes import MultinomialNB\n",
        "\n",
        "# Загрузка данных\n",
        "train_data = pd.read_csv('train.csv')\n",
        "test_data = pd.read_csv('test.csv')\n",
        "\n",
        "# Создание словарей соответствий\n",
        "ru_en_dict = {\n",
        "    'й': 'q', 'ц': 'w', 'у': 'e', 'к': 'r', 'е': 't', 'н': 'y', 'г': 'u', 'ш': 'i', 'щ': 'o', 'з': 'p', 'х': '[', 'ъ': ']',\n",
        "    'ф': 'a', 'ы': 's', 'в': 'd', 'а': 'f', 'п': 'g', 'р': 'h', 'о': 'j', 'л': 'k', 'д': 'l', 'ж': ';', 'э': \"'\",\n",
        "    'я': 'z', 'ч': 'x', 'с': 'c', 'м': 'v', 'и': 'b', 'т': 'n', 'ь': 'm', 'б': ',', 'ю': '.', '.': '/',\n",
        "    'ё': '`'\n",
        "}\n",
        "en_ru_dict = {v: k for k, v in ru_en_dict.items()}\n",
        "\n",
        "def switch_layout(word):\n",
        "    \"\"\"Переключает раскладку слова.\"\"\"\n",
        "    if any(c in ru_en_dict for c in word):\n",
        "        return ''.join(ru_en_dict.get(c, c) for c in word)\n",
        "    else:\n",
        "        return ''.join(en_ru_dict.get(c, c) for c in word)\n",
        "\n",
        "# Подготовка данных для обучения\n",
        "vectorizer = CountVectorizer(analyzer='word', ngram_range=(1, 2))\n",
        "X = vectorizer.fit_transform(train_data['text'])\n",
        "y = (train_data['text'] != train_data['label']).astype(int)\n",
        "\n",
        "# Обучение модели\n",
        "model = MultinomialNB()\n",
        "model.fit(X, y)\n",
        "\n",
        "def find_and_fix_error(text):\n",
        "    \"\"\"Находит и исправляет ошибочное слово в тексте.\"\"\"\n",
        "    words = text.split()\n",
        "    X_test = vectorizer.transform([text])\n",
        "    if model.predict(X_test)[0] == 1:  # Если модель предсказывает наличие ошибки\n",
        "        for i, word in enumerate(words):\n",
        "            switched_word = switch_layout(word)\n",
        "            if switched_word != word:\n",
        "                new_text = ' '.join(words[:i] + [switched_word] + words[i+1:])\n",
        "                if model.predict(vectorizer.transform([new_text]))[0] == 0:\n",
        "                    return new_text\n",
        "    return text  # Если ошибка не найдена или модель не предсказала ошибку\n",
        "\n",
        "# Применяем функцию к тестовым данным\n",
        "test_data['corrected'] = test_data['text'].apply(find_and_fix_error)\n",
        "\n",
        "# Сохраняем результаты\n",
        "test_data['corrected'].to_csv('predictions.csv', index=False, header=False)\n",
        "\n",
        "print(\"Предсказания сохранены в файл 'predictions.csv'\")\n",
        "\n",
        "# Проверка точности на"
      ],
      "metadata": {
        "colab": {
          "base_uri": "https://localhost:8080/"
        },
        "id": "EEoUgNscPmfq",
        "outputId": "4cc3489a-cc3b-4fdf-a4fd-d1f25779cfb8"
      },
      "execution_count": null,
      "outputs": [
        {
          "output_type": "stream",
          "name": "stdout",
          "text": [
            "Предсказания сохранены в файл 'predictions.csv'\n"
          ]
        }
      ]
    },
    {
      "cell_type": "code",
      "source": [
        "pred = train_data['text'].apply(find_and_fix_error)"
      ],
      "metadata": {
        "id": "KtMmnMMkRRpo"
      },
      "execution_count": null,
      "outputs": []
    },
    {
      "cell_type": "code",
      "source": [
        "(train_data['label'] == pred).sum()"
      ],
      "metadata": {
        "colab": {
          "base_uri": "https://localhost:8080/"
        },
        "id": "MVxCHVvTRuGo",
        "outputId": "d6e94410-13ea-4d55-bf50-d58a6329592d"
      },
      "execution_count": null,
      "outputs": [
        {
          "output_type": "execute_result",
          "data": {
            "text/plain": [
              "8389"
            ]
          },
          "metadata": {},
          "execution_count": 17
        }
      ]
    },
    {
      "cell_type": "code",
      "source": [
        "train_data.info()"
      ],
      "metadata": {
        "colab": {
          "base_uri": "https://localhost:8080/"
        },
        "id": "QA1Ynr7xSPSe",
        "outputId": "3fd318e3-0dbf-46ff-d488-bf06cb93b357"
      },
      "execution_count": null,
      "outputs": [
        {
          "output_type": "stream",
          "name": "stdout",
          "text": [
            "<class 'pandas.core.frame.DataFrame'>\n",
            "RangeIndex: 18960 entries, 0 to 18959\n",
            "Data columns (total 2 columns):\n",
            " #   Column  Non-Null Count  Dtype \n",
            "---  ------  --------------  ----- \n",
            " 0   text    18960 non-null  object\n",
            " 1   label   18960 non-null  object\n",
            "dtypes: object(2)\n",
            "memory usage: 296.4+ KB\n"
          ]
        }
      ]
    },
    {
      "cell_type": "code",
      "source": [
        "set(en_ru_dict) & set(ru_en_dict)"
      ],
      "metadata": {
        "colab": {
          "base_uri": "https://localhost:8080/"
        },
        "id": "ksxX3S0QS3kh",
        "outputId": "ed34e0b0-a660-439d-c33a-1f3d958cc34a"
      },
      "execution_count": null,
      "outputs": [
        {
          "output_type": "execute_result",
          "data": {
            "text/plain": [
              "{'.'}"
            ]
          },
          "metadata": {},
          "execution_count": 20
        }
      ]
    },
    {
      "cell_type": "markdown",
      "source": [
        "#### 2"
      ],
      "metadata": {
        "id": "LKkfxYukWIui"
      }
    },
    {
      "cell_type": "code",
      "source": [
        "import pandas as pd\n",
        "import numpy as np\n",
        "from sklearn.feature_extraction.text import TfidfVectorizer\n",
        "from sklearn.linear_model import LogisticRegression\n",
        "from sklearn.model_selection import train_test_split\n",
        "\n",
        "# Загрузка данных\n",
        "train_data = pd.read_csv('train.csv')\n",
        "test_data = pd.read_csv('test.csv')\n",
        "\n",
        "# Создание словарей соответствий\n",
        "ru_en_dict = {\n",
        "    'й': 'q', 'ц': 'w', 'у': 'e', 'к': 'r', 'е': 't', 'н': 'y', 'г': 'u', 'ш': 'i', 'щ': 'o', 'з': 'p', 'х': '[', 'ъ': ']',\n",
        "    'ф': 'a', 'ы': 's', 'в': 'd', 'а': 'f', 'п': 'g', 'р': 'h', 'о': 'j', 'л': 'k', 'д': 'l', 'ж': ';', 'э': \"'\",\n",
        "    'я': 'z', 'ч': 'x', 'с': 'c', 'м': 'v', 'и': 'b', 'т': 'n', 'ь': 'm', 'б': ',', 'ю': '.',\n",
        "    'ё': '`'\n",
        "}\n",
        "en_ru_dict = {v: k for k, v in ru_en_dict.items()}\n",
        "\n",
        "def switch_layout(word):\n",
        "    \"\"\"Переключает раскладку слова.\"\"\"\n",
        "    return ''.join(ru_en_dict.get(c, en_ru_dict.get(c, c)) for c in word)\n",
        "\n",
        "def generate_variants(text):\n",
        "    \"\"\"Генерирует все варианты текста с одним замененным словом.\"\"\"\n",
        "    words = text.split()\n",
        "    variants = [text]  # Добавляем исходный текст\n",
        "    for i, word in enumerate(words):\n",
        "        switched_word = switch_layout(word)\n",
        "        if switched_word != word:\n",
        "            new_text = ' '.join(words[:i] + [switched_word] + words[i+1:])\n",
        "            variants.append(new_text)\n",
        "    return variants\n",
        "\n",
        "# Подготовка данных для обучения модели\n",
        "X = train_data['label'].tolist() + train_data['text'].tolist()\n",
        "y = [1] * len(train_data) + [0] * len(train_data)\n",
        "\n",
        "# Разделение на обучающую и валидационную выборки\n",
        "X_train, X_val, y_train, y_val = train_test_split(X, y, test_size=0.2, random_state=42)\n",
        "\n",
        "# Создание и обучение модели\n",
        "vectorizer = TfidfVectorizer(ngram_range=(1, 2))\n",
        "X_train_vec = vectorizer.fit_transform(X_train)\n",
        "X_val_vec = vectorizer.transform(X_val)\n",
        "\n",
        "model = LogisticRegression(random_state=42, max_iter=1000)\n",
        "model.fit(X_train_vec, y_train)\n",
        "\n",
        "# Оценка модели на валидационной выборке\n",
        "val_accuracy = model.score(X_val_vec, y_val)\n",
        "print(f\"Точность модели на валидационной выборке: {val_accuracy:.2f}\")\n",
        "\n",
        "def find_correct_variant(text):\n",
        "    \"\"\"Находит наиболее вероятный правильный вариант текста.\"\"\"\n",
        "    variants = generate_variants(text)\n",
        "    variant_vectors = vectorizer.transform(variants)\n",
        "    probabilities = model.predict_proba(variant_vectors)[:, 1]  # Вероятности для класса 1 (правильный текст)\n",
        "    best_variant_index = np.argmax(probabilities)\n",
        "    return variants[best_variant_index]\n",
        "\n",
        "# Применяем функцию к тестовым данным\n",
        "test_data['corrected'] = test_data['text'].apply(find_correct_variant)\n",
        "\n",
        "# Сохраняем результаты\n",
        "test_data['corrected'].to_csv('predictions.csv', index=False, header=False)\n",
        "\n",
        "print(\"Предсказания сохранены в файл 'predictions.csv'\")\n",
        "\n",
        "# Проверка точности на тренировочных данных\n",
        "train_data['predicted'] = train_data['text'].apply(find_correct_variant)\n",
        "accuracy = (train_data['predicted'] == train_data['label']).mean()\n",
        "print(f\"Точность на тренировочных данных: {accuracy:.2f}\")"
      ],
      "metadata": {
        "colab": {
          "base_uri": "https://localhost:8080/"
        },
        "id": "Yocfir3nUN7r",
        "outputId": "4376da08-46aa-4ec2-f9a4-3a67781d49ae"
      },
      "execution_count": null,
      "outputs": [
        {
          "output_type": "stream",
          "name": "stdout",
          "text": [
            "Точность модели на валидационной выборке: 0.26\n",
            "Предсказания сохранены в файл 'predictions.csv'\n",
            "Точность на тренировочных данных: 0.50\n"
          ]
        }
      ]
    },
    {
      "cell_type": "markdown",
      "source": [
        "#### 3"
      ],
      "metadata": {
        "id": "xoNai7yRWLj8"
      }
    },
    {
      "cell_type": "code",
      "source": [
        "train = pd.read_csv('train.csv')"
      ],
      "metadata": {
        "id": "VPVcStisVhGH"
      },
      "execution_count": null,
      "outputs": []
    },
    {
      "cell_type": "code",
      "source": [
        "print(train.head().to_string())"
      ],
      "metadata": {
        "colab": {
          "base_uri": "https://localhost:8080/"
        },
        "id": "g7bwcJVWdyMZ",
        "outputId": "b43971ba-d4c1-47be-a20f-36284ddd2fce"
      },
      "execution_count": null,
      "outputs": [
        {
          "output_type": "stream",
          "name": "stdout",
          "text": [
            "                                                                                                         text                                                                                                       label\n",
            "0                                                                    и старательности полкового rjvfylbhf был                                                                    и старательности полкового командира был\n",
            "1                                                 о котором старались умолчать tlbycndtyyj потому, что другая                                                 о котором старались умолчать единственно потому, что другая\n",
            "2                                                                                      или пуля dfc не брала,                                                                                      или пуля вас не брала,\n",
            "3  друг друга, нестройною, но веселою b оживленною толпой побежали наши под гору за расстроенными французами.  друг друга, нестройною, но веселою и оживленною толпой побежали наши под гору за расстроенными французами.\n",
            "4                                  берейторами в расшитых попонах красивые запасные царские лошади. как будто                                  берейторами в расшитых попонах красивые запасные царские лошади. как будто\n"
          ]
        }
      ]
    },
    {
      "cell_type": "code",
      "source": [
        "import pandas as pd"
      ],
      "metadata": {
        "id": "L34XnOr5bcD6"
      },
      "execution_count": null,
      "outputs": []
    },
    {
      "cell_type": "code",
      "source": [
        "test = pd.read_csv('test.csv')"
      ],
      "metadata": {
        "id": "nB-BCxZbd4a9"
      },
      "execution_count": null,
      "outputs": []
    },
    {
      "cell_type": "code",
      "source": [
        "test['text'].apply(len).max()"
      ],
      "metadata": {
        "colab": {
          "base_uri": "https://localhost:8080/"
        },
        "id": "RulDUvgObfUx",
        "outputId": "539d3a8a-931f-4657-ca98-e9f69907bcb0"
      },
      "execution_count": null,
      "outputs": [
        {
          "output_type": "execute_result",
          "data": {
            "text/plain": [
              "139"
            ]
          },
          "metadata": {},
          "execution_count": 11
        }
      ]
    },
    {
      "cell_type": "code",
      "source": [
        "test['text'].apply(lambda x: len(x.split())).max()"
      ],
      "metadata": {
        "colab": {
          "base_uri": "https://localhost:8080/"
        },
        "id": "CIGcbj4Qcrmy",
        "outputId": "dbea4e85-4f7c-455b-ec44-03c1ecd98ef1"
      },
      "execution_count": null,
      "outputs": [
        {
          "output_type": "execute_result",
          "data": {
            "text/plain": [
              "15"
            ]
          },
          "metadata": {},
          "execution_count": 13
        }
      ]
    },
    {
      "cell_type": "code",
      "source": [
        "print(test.head().to_string())"
      ],
      "metadata": {
        "colab": {
          "base_uri": "https://localhost:8080/"
        },
        "id": "30yaKO80eprW",
        "outputId": "8a77aa73-dd73-4ca0-d175-a007d780dfa6"
      },
      "execution_count": null,
      "outputs": [
        {
          "output_type": "stream",
          "name": "stdout",
          "text": [
            "                                                                                   text\n",
            "0  петруша, и их любовников, – сказал он. пьер, опустив глаза, пил из своего бокала, не\n",
            "1                                               мог не привлечь его внимания. наполеон,\n",
            "2                                                                 деньги на карты, а то\n",
            "3           у себя во франции на такие пустяки не j,hfoftv внимания. государь ничего не\n",
            "4                       – откуда и докуда, ваше величество? – от l.htyintqyf до кремса.\n"
          ]
        }
      ]
    },
    {
      "cell_type": "code",
      "source": [
        "train.shape"
      ],
      "metadata": {
        "colab": {
          "base_uri": "https://localhost:8080/"
        },
        "id": "go4whWr3eq-G",
        "outputId": "bc265122-721e-4be3-c0f9-d194810fb176"
      },
      "execution_count": null,
      "outputs": [
        {
          "output_type": "execute_result",
          "data": {
            "text/plain": [
              "(18960, 2)"
            ]
          },
          "metadata": {},
          "execution_count": 36
        }
      ]
    },
    {
      "cell_type": "code",
      "source": [
        "test.shape"
      ],
      "metadata": {
        "colab": {
          "base_uri": "https://localhost:8080/"
        },
        "id": "vMFuXspjfjas",
        "outputId": "52e8717c-551a-4da0-8ebe-2ff227632c89"
      },
      "execution_count": null,
      "outputs": [
        {
          "output_type": "execute_result",
          "data": {
            "text/plain": [
              "(4740, 1)"
            ]
          },
          "metadata": {},
          "execution_count": 37
        }
      ]
    },
    {
      "cell_type": "code",
      "source": [
        "4740 / 18960"
      ],
      "metadata": {
        "colab": {
          "base_uri": "https://localhost:8080/"
        },
        "id": "OU6EUwOZfktT",
        "outputId": "a4048280-7d3e-4622-eab2-46280df65eb4"
      },
      "execution_count": null,
      "outputs": [
        {
          "output_type": "execute_result",
          "data": {
            "text/plain": [
              "0.25"
            ]
          },
          "metadata": {},
          "execution_count": 38
        }
      ]
    },
    {
      "cell_type": "code",
      "source": [
        "for i in range(5):\n",
        "    print(train['text'][i])\n",
        "print('-'*10)\n",
        "for i in range(5):\n",
        "    print(train['label'][i])"
      ],
      "metadata": {
        "colab": {
          "base_uri": "https://localhost:8080/"
        },
        "id": "XZB2nWcsfnoj",
        "outputId": "41f9a7bc-6061-45e8-fd86-899d9c74e2c1"
      },
      "execution_count": null,
      "outputs": [
        {
          "output_type": "stream",
          "name": "stdout",
          "text": [
            "и старательности полкового rjvfylbhf был\n",
            "о котором старались умолчать tlbycndtyyj потому, что другая\n",
            "или пуля dfc не брала,\n",
            "друг друга, нестройною, но веселою b оживленною толпой побежали наши под гору за расстроенными французами.\n",
            "берейторами в расшитых попонах красивые запасные царские лошади. как будто\n",
            "----------\n",
            "и старательности полкового командира был\n",
            "о котором старались умолчать единственно потому, что другая\n",
            "или пуля вас не брала,\n",
            "друг друга, нестройною, но веселою и оживленною толпой побежали наши под гору за расстроенными французами.\n",
            "берейторами в расшитых попонах красивые запасные царские лошади. как будто\n"
          ]
        }
      ]
    },
    {
      "cell_type": "code",
      "source": [
        "for i in range(5):\n",
        "    print(test['text'][i])"
      ],
      "metadata": {
        "colab": {
          "base_uri": "https://localhost:8080/"
        },
        "id": "Y_utbYFpgBDj",
        "outputId": "a3b450d7-6ee9-47bd-8307-0150e7d6b2e2"
      },
      "execution_count": null,
      "outputs": [
        {
          "output_type": "stream",
          "name": "stdout",
          "text": [
            "петруша, и их любовников, – сказал он. пьер, опустив глаза, пил из своего бокала, не\n",
            "мог не привлечь его внимания. наполеон,\n",
            "деньги на карты, а то\n",
            "у себя во франции на такие пустяки не j,hfoftv внимания. государь ничего не\n",
            "– откуда и докуда, ваше величество? – от l.htyintqyf до кремса.\n"
          ]
        }
      ]
    },
    {
      "cell_type": "markdown",
      "source": [
        "#### 4"
      ],
      "metadata": {
        "id": "lsWNnu2xqou6"
      }
    },
    {
      "cell_type": "code",
      "source": [
        "import pandas as pd\n",
        "\n",
        "train = pd.read_csv('train.csv')"
      ],
      "metadata": {
        "id": "vZVp0PIaqno7"
      },
      "execution_count": null,
      "outputs": []
    },
    {
      "cell_type": "code",
      "source": [
        "sum(train['text'] == train['label'])"
      ],
      "metadata": {
        "id": "wLNY4APwhGnq",
        "colab": {
          "base_uri": "https://localhost:8080/"
        },
        "outputId": "30ac2b2a-6cdf-403e-e662-b8468c79b263"
      },
      "execution_count": null,
      "outputs": [
        {
          "output_type": "execute_result",
          "data": {
            "text/plain": [
              "7985"
            ]
          },
          "metadata": {},
          "execution_count": 7
        }
      ]
    },
    {
      "cell_type": "code",
      "source": [
        "train.shape"
      ],
      "metadata": {
        "colab": {
          "base_uri": "https://localhost:8080/"
        },
        "id": "6pLv7YZWupXv",
        "outputId": "bbc20b0f-4fae-4438-c0c6-f12f0e75912c"
      },
      "execution_count": null,
      "outputs": [
        {
          "output_type": "execute_result",
          "data": {
            "text/plain": [
              "(18960, 2)"
            ]
          },
          "metadata": {},
          "execution_count": 10
        }
      ]
    },
    {
      "cell_type": "code",
      "source": [
        "test = pd.read_csv('test.csv')"
      ],
      "metadata": {
        "id": "rCQxGHr-uq3n"
      },
      "execution_count": null,
      "outputs": []
    },
    {
      "cell_type": "code",
      "source": [
        "test['text'].apply(len).count()"
      ],
      "metadata": {
        "colab": {
          "base_uri": "https://localhost:8080/"
        },
        "id": "nO1Zs-z87aYv",
        "outputId": "19534510-8641-4cc7-ec2f-17a12c2c9d24"
      },
      "execution_count": null,
      "outputs": [
        {
          "output_type": "execute_result",
          "data": {
            "text/plain": [
              "4740"
            ]
          },
          "metadata": {},
          "execution_count": 16
        }
      ]
    },
    {
      "cell_type": "code",
      "source": [
        "print(train.head().to_string())"
      ],
      "metadata": {
        "colab": {
          "base_uri": "https://localhost:8080/"
        },
        "id": "4x-dLI107cEH",
        "outputId": "3ab0fa86-33c0-45a1-bcb3-ec1b98664f47"
      },
      "execution_count": null,
      "outputs": [
        {
          "output_type": "stream",
          "name": "stdout",
          "text": [
            "                                                                                                         text                                                                                                       label\n",
            "0                                                                    и старательности полкового rjvfylbhf был                                                                    и старательности полкового командира был\n",
            "1                                                 о котором старались умолчать tlbycndtyyj потому, что другая                                                 о котором старались умолчать единственно потому, что другая\n",
            "2                                                                                      или пуля dfc не брала,                                                                                      или пуля вас не брала,\n",
            "3  друг друга, нестройною, но веселою b оживленною толпой побежали наши под гору за расстроенными французами.  друг друга, нестройною, но веселою и оживленною толпой побежали наши под гору за расстроенными французами.\n",
            "4                                  берейторами в расшитых попонах красивые запасные царские лошади. как будто                                  берейторами в расшитых попонах красивые запасные царские лошади. как будто\n"
          ]
        }
      ]
    },
    {
      "cell_type": "markdown",
      "source": [
        "#### 5"
      ],
      "metadata": {
        "id": "dArGltxDhmoR"
      }
    },
    {
      "cell_type": "code",
      "source": [
        "import pandas as pd\n",
        "\n",
        "train = pd.read_csv('train.csv')\n",
        "test = pd.read_csv('test.csv')"
      ],
      "metadata": {
        "id": "tYKacv5xFYju"
      },
      "execution_count": null,
      "outputs": []
    },
    {
      "cell_type": "code",
      "source": [
        "def calc_space(row: str) -> int:\n",
        "    now = 0\n",
        "    best = 0\n",
        "    for le in row:\n",
        "        if le == ' ':\n",
        "            now += 1\n",
        "        else:\n",
        "            now = 0\n",
        "        best = max(best, now)\n",
        "\n",
        "    return best"
      ],
      "metadata": {
        "id": "9tuywgoYh049"
      },
      "execution_count": null,
      "outputs": []
    },
    {
      "cell_type": "code",
      "source": [
        "train['label'].apply(calc_space).max()"
      ],
      "metadata": {
        "colab": {
          "base_uri": "https://localhost:8080/"
        },
        "id": "z9Tcy5Tgh2Gu",
        "outputId": "f0f95434-4ace-4fab-877b-a149e0996401"
      },
      "execution_count": null,
      "outputs": [
        {
          "output_type": "execute_result",
          "data": {
            "text/plain": [
              "1"
            ]
          },
          "metadata": {},
          "execution_count": 9
        }
      ]
    },
    {
      "cell_type": "code",
      "source": [
        "train['text'].apply(calc_space).max()"
      ],
      "metadata": {
        "colab": {
          "base_uri": "https://localhost:8080/"
        },
        "id": "_dHiCKswiSQ_",
        "outputId": "21abef1f-c2a1-42e0-806f-7763c9133956"
      },
      "execution_count": null,
      "outputs": [
        {
          "output_type": "execute_result",
          "data": {
            "text/plain": [
              "1"
            ]
          },
          "metadata": {},
          "execution_count": 11
        }
      ]
    },
    {
      "cell_type": "code",
      "source": [
        "test['text'].apply(calc_space).max()"
      ],
      "metadata": {
        "colab": {
          "base_uri": "https://localhost:8080/"
        },
        "id": "eEnFlA6uiYkP",
        "outputId": "ad2d3234-2ccf-4941-9346-e0e34690d7a9"
      },
      "execution_count": null,
      "outputs": [
        {
          "output_type": "execute_result",
          "data": {
            "text/plain": [
              "1"
            ]
          },
          "metadata": {},
          "execution_count": 12
        }
      ]
    },
    {
      "cell_type": "code",
      "source": [],
      "metadata": {
        "id": "MnetmRxCidlL"
      },
      "execution_count": null,
      "outputs": []
    },
    {
      "cell_type": "markdown",
      "source": [
        "### 6"
      ],
      "metadata": {
        "id": "7s6U1Pr7Fg1d"
      }
    },
    {
      "cell_type": "code",
      "source": [
        "import pandas as pd"
      ],
      "metadata": {
        "id": "1Gl_O6vlGjxs"
      },
      "execution_count": null,
      "outputs": []
    },
    {
      "cell_type": "code",
      "source": [
        "train = pd.read_csv('train.csv')\n",
        "test = pd.read_csv('test.csv')"
      ],
      "metadata": {
        "id": "8Jz0q1x2FieD"
      },
      "execution_count": null,
      "outputs": []
    },
    {
      "cell_type": "code",
      "source": [
        "train.text.apply(len).max()"
      ],
      "metadata": {
        "colab": {
          "base_uri": "https://localhost:8080/"
        },
        "id": "Ie6lSp_lGiv4",
        "outputId": "9cfadadd-7879-4e03-fb53-f9039ffb0666"
      },
      "execution_count": null,
      "outputs": [
        {
          "output_type": "execute_result",
          "data": {
            "text/plain": [
              "133"
            ]
          },
          "metadata": {},
          "execution_count": 9
        }
      ]
    },
    {
      "cell_type": "code",
      "source": [
        "print(1)"
      ],
      "metadata": {
        "colab": {
          "base_uri": "https://localhost:8080/"
        },
        "id": "vOe0wccaGmHW",
        "outputId": "35cfa66f-3923-4a23-9026-f07a1fb256f9"
      },
      "execution_count": null,
      "outputs": [
        {
          "output_type": "stream",
          "name": "stdout",
          "text": [
            "1\n"
          ]
        }
      ]
    },
    {
      "cell_type": "code",
      "source": [
        "import pandas as pd\n",
        "from sklearn.model_selection import train_test_split\n",
        "from transformers import BertTokenizer, BertForSequenceClassification, Trainer, TrainingArguments\n",
        "import torch\n",
        "from torch.utils.data import Dataset\n",
        "\n",
        "# Функция для генерации вариантов\n",
        "def generate_variants(text):\n",
        "    variants = set([text])\n",
        "    words = text.split()\n",
        "\n",
        "    ru_layout = \"йцукенгшщзхъфывапролджэячсмитьбю.ё\"\n",
        "    en_layout = \"qwertyuiop[]asdfghjkl;'zxcvbnm,./`\"\n",
        "    layout_map = dict(zip(ru_layout, en_layout) + zip(en_layout, ru_layout))\n",
        "\n",
        "    for i, word in enumerate(words):\n",
        "        switched_word = ''.join(layout_map.get(c, c) for c in word)\n",
        "        if switched_word != word:\n",
        "            new_text = ' '.join(words[:i] + [switched_word] + words[i+1:])\n",
        "            variants.add(new_text)\n",
        "\n",
        "    return variants\n",
        "\n",
        "# Загрузка и подготовка данных\n",
        "df = pd.read_csv('train.csv')\n",
        "texts = df['text'].tolist()\n",
        "labels = df['label'].tolist()\n",
        "\n",
        "train_texts, val_texts, train_labels, val_labels = train_test_split(texts, labels, test_size=0.2, random_state=42)\n",
        "\n",
        "# Инициализация токенизатора\n",
        "tokenizer = BertTokenizer.from_pretrained('bert-base-multilingual-cased')\n",
        "\n",
        "# Создание кастомного датасета\n",
        "class CustomDataset(Dataset):\n",
        "    def __init__(self, texts, labels, tokenizer, max_len=128):\n",
        "        self.texts = texts\n",
        "        self.labels = labels\n",
        "        self.tokenizer = tokenizer\n",
        "        self.max_len = max_len\n",
        "\n",
        "    def __len__(self):\n",
        "        return len(self.texts)\n",
        "\n",
        "    def __getitem__(self, idx):\n",
        "        text = self.texts[idx]\n",
        "        label = 1 if self.texts[idx] != self.labels[idx] else 0\n",
        "\n",
        "        encoding = self.tokenizer.encode_plus(\n",
        "            text,\n",
        "            add_special_tokens=True,\n",
        "            max_length=self.max_len,\n",
        "            return_token_type_ids=False,\n",
        "            padding='max_length',\n",
        "            truncation=True,\n",
        "            return_attention_mask=True,\n",
        "            return_tensors='pt',\n",
        "        )\n",
        "\n",
        "        return {\n",
        "            'input_ids': encoding['input_ids'].flatten(),\n",
        "            'attention_mask': encoding['attention_mask'].flatten(),\n",
        "            'labels': torch.tensor(label, dtype=torch.long)\n",
        "        }\n",
        "\n",
        "# Создание датасетов\n",
        "train_dataset = CustomDataset(train_texts, train_labels, tokenizer)\n",
        "val_dataset = CustomDataset(val_texts, val_labels, tokenizer)\n",
        "\n",
        "# Инициализация модели\n",
        "model = BertForSequenceClassification.from_pretrained('bert-base-multilingual-cased', num_labels=2)\n",
        "\n",
        "# Настройка параметров обучения\n",
        "training_args = TrainingArguments(\n",
        "    output_dir='./results',\n",
        "    num_train_epochs=3,\n",
        "    per_device_train_batch_size=16,\n",
        "    per_device_eval_batch_size=64,\n",
        "    warmup_steps=500,\n",
        "    weight_decay=0.01,\n",
        "    logging_dir='./logs',\n",
        ")\n",
        "\n",
        "# Инициализация тренера\n",
        "trainer = Trainer(\n",
        "    model=model,\n",
        "    args=training_args,\n",
        "    train_dataset=train_dataset,\n",
        "    eval_dataset=val_dataset\n",
        ")\n",
        "\n",
        "# Обучение модели\n",
        "trainer.train()\n",
        "\n",
        "# Функция для исправления текста\n",
        "def correct_text(text, model, tokenizer):\n",
        "    variants = generate_variants(text)\n",
        "\n",
        "    inputs = tokenizer(list(variants), return_tensors=\"pt\", padding=True, truncation=True, max_length=128)\n",
        "    outputs = model(**inputs)\n",
        "\n",
        "    probs = torch.softmax(outputs.logits, dim=1)\n",
        "    original_prob = probs[0][0].item()\n",
        "\n",
        "    best_variant = text\n",
        "    best_prob = original_prob\n",
        "\n",
        "    for i, variant in enumerate(variants):\n",
        "        if variant != text:\n",
        "            variant_prob = probs[i][1].item()\n",
        "            if variant_prob > best_prob:\n",
        "                best_variant = variant\n",
        "                best_prob = variant_prob\n",
        "\n",
        "    return best_variant\n",
        "\n",
        "# Обработка тестового файла\n",
        "test_df = pd.read_csv('test.csv')\n",
        "test_texts = test_df['text'].tolist()\n",
        "\n",
        "corrected_texts = []\n",
        "for text in test_texts:\n",
        "    corrected_text = correct_text(text, model, tokenizer)\n",
        "    corrected_texts.append(corrected_text)\n",
        "\n",
        "# Запись результатов в файл\n",
        "with open('output.txt', 'w', encoding='utf-8') as f:\n",
        "    for text in corrected_texts:\n",
        "        f.write(text + '\\n')"
      ],
      "metadata": {
        "id": "4uo83Wl_GvQR"
      },
      "execution_count": null,
      "outputs": []
    },
    {
      "cell_type": "markdown",
      "source": [
        "### 7"
      ],
      "metadata": {
        "id": "1MXr5QBD4BUA"
      }
    },
    {
      "cell_type": "code",
      "source": [
        "import pandas as pd\n",
        "\n",
        "train = pd.read_csv('train.csv')\n",
        "test = pd.read_csv('test.csv')"
      ],
      "metadata": {
        "id": "ijT4mm8tQFCe"
      },
      "execution_count": null,
      "outputs": []
    },
    {
      "cell_type": "code",
      "source": [
        "train.head()"
      ],
      "metadata": {
        "colab": {
          "base_uri": "https://localhost:8080/",
          "height": 206
        },
        "id": "cNR8wZaN4Rs1",
        "outputId": "6831c8b4-0d8e-4f56-fe4e-1774b2edcafa"
      },
      "execution_count": null,
      "outputs": [
        {
          "output_type": "execute_result",
          "data": {
            "text/plain": [
              "                                                text  \\\n",
              "0           и старательности полкового rjvfylbhf был   \n",
              "1  о котором старались умолчать tlbycndtyyj потом...   \n",
              "2                             или пуля dfc не брала,   \n",
              "3  друг друга, нестройною, но веселою b оживленно...   \n",
              "4  берейторами в расшитых попонах красивые запасн...   \n",
              "\n",
              "                                               label  \n",
              "0           и старательности полкового командира был  \n",
              "1  о котором старались умолчать единственно потом...  \n",
              "2                             или пуля вас не брала,  \n",
              "3  друг друга, нестройною, но веселою и оживленно...  \n",
              "4  берейторами в расшитых попонах красивые запасн...  "
            ],
            "text/html": [
              "\n",
              "  <div id=\"df-6dadfc84-8ca1-4c16-b4fa-f4f403ca7e2c\" class=\"colab-df-container\">\n",
              "    <div>\n",
              "<style scoped>\n",
              "    .dataframe tbody tr th:only-of-type {\n",
              "        vertical-align: middle;\n",
              "    }\n",
              "\n",
              "    .dataframe tbody tr th {\n",
              "        vertical-align: top;\n",
              "    }\n",
              "\n",
              "    .dataframe thead th {\n",
              "        text-align: right;\n",
              "    }\n",
              "</style>\n",
              "<table border=\"1\" class=\"dataframe\">\n",
              "  <thead>\n",
              "    <tr style=\"text-align: right;\">\n",
              "      <th></th>\n",
              "      <th>text</th>\n",
              "      <th>label</th>\n",
              "    </tr>\n",
              "  </thead>\n",
              "  <tbody>\n",
              "    <tr>\n",
              "      <th>0</th>\n",
              "      <td>и старательности полкового rjvfylbhf был</td>\n",
              "      <td>и старательности полкового командира был</td>\n",
              "    </tr>\n",
              "    <tr>\n",
              "      <th>1</th>\n",
              "      <td>о котором старались умолчать tlbycndtyyj потом...</td>\n",
              "      <td>о котором старались умолчать единственно потом...</td>\n",
              "    </tr>\n",
              "    <tr>\n",
              "      <th>2</th>\n",
              "      <td>или пуля dfc не брала,</td>\n",
              "      <td>или пуля вас не брала,</td>\n",
              "    </tr>\n",
              "    <tr>\n",
              "      <th>3</th>\n",
              "      <td>друг друга, нестройною, но веселою b оживленно...</td>\n",
              "      <td>друг друга, нестройною, но веселою и оживленно...</td>\n",
              "    </tr>\n",
              "    <tr>\n",
              "      <th>4</th>\n",
              "      <td>берейторами в расшитых попонах красивые запасн...</td>\n",
              "      <td>берейторами в расшитых попонах красивые запасн...</td>\n",
              "    </tr>\n",
              "  </tbody>\n",
              "</table>\n",
              "</div>\n",
              "    <div class=\"colab-df-buttons\">\n",
              "\n",
              "  <div class=\"colab-df-container\">\n",
              "    <button class=\"colab-df-convert\" onclick=\"convertToInteractive('df-6dadfc84-8ca1-4c16-b4fa-f4f403ca7e2c')\"\n",
              "            title=\"Convert this dataframe to an interactive table.\"\n",
              "            style=\"display:none;\">\n",
              "\n",
              "  <svg xmlns=\"http://www.w3.org/2000/svg\" height=\"24px\" viewBox=\"0 -960 960 960\">\n",
              "    <path d=\"M120-120v-720h720v720H120Zm60-500h600v-160H180v160Zm220 220h160v-160H400v160Zm0 220h160v-160H400v160ZM180-400h160v-160H180v160Zm440 0h160v-160H620v160ZM180-180h160v-160H180v160Zm440 0h160v-160H620v160Z\"/>\n",
              "  </svg>\n",
              "    </button>\n",
              "\n",
              "  <style>\n",
              "    .colab-df-container {\n",
              "      display:flex;\n",
              "      gap: 12px;\n",
              "    }\n",
              "\n",
              "    .colab-df-convert {\n",
              "      background-color: #E8F0FE;\n",
              "      border: none;\n",
              "      border-radius: 50%;\n",
              "      cursor: pointer;\n",
              "      display: none;\n",
              "      fill: #1967D2;\n",
              "      height: 32px;\n",
              "      padding: 0 0 0 0;\n",
              "      width: 32px;\n",
              "    }\n",
              "\n",
              "    .colab-df-convert:hover {\n",
              "      background-color: #E2EBFA;\n",
              "      box-shadow: 0px 1px 2px rgba(60, 64, 67, 0.3), 0px 1px 3px 1px rgba(60, 64, 67, 0.15);\n",
              "      fill: #174EA6;\n",
              "    }\n",
              "\n",
              "    .colab-df-buttons div {\n",
              "      margin-bottom: 4px;\n",
              "    }\n",
              "\n",
              "    [theme=dark] .colab-df-convert {\n",
              "      background-color: #3B4455;\n",
              "      fill: #D2E3FC;\n",
              "    }\n",
              "\n",
              "    [theme=dark] .colab-df-convert:hover {\n",
              "      background-color: #434B5C;\n",
              "      box-shadow: 0px 1px 3px 1px rgba(0, 0, 0, 0.15);\n",
              "      filter: drop-shadow(0px 1px 2px rgba(0, 0, 0, 0.3));\n",
              "      fill: #FFFFFF;\n",
              "    }\n",
              "  </style>\n",
              "\n",
              "    <script>\n",
              "      const buttonEl =\n",
              "        document.querySelector('#df-6dadfc84-8ca1-4c16-b4fa-f4f403ca7e2c button.colab-df-convert');\n",
              "      buttonEl.style.display =\n",
              "        google.colab.kernel.accessAllowed ? 'block' : 'none';\n",
              "\n",
              "      async function convertToInteractive(key) {\n",
              "        const element = document.querySelector('#df-6dadfc84-8ca1-4c16-b4fa-f4f403ca7e2c');\n",
              "        const dataTable =\n",
              "          await google.colab.kernel.invokeFunction('convertToInteractive',\n",
              "                                                    [key], {});\n",
              "        if (!dataTable) return;\n",
              "\n",
              "        const docLinkHtml = 'Like what you see? Visit the ' +\n",
              "          '<a target=\"_blank\" href=https://colab.research.google.com/notebooks/data_table.ipynb>data table notebook</a>'\n",
              "          + ' to learn more about interactive tables.';\n",
              "        element.innerHTML = '';\n",
              "        dataTable['output_type'] = 'display_data';\n",
              "        await google.colab.output.renderOutput(dataTable, element);\n",
              "        const docLink = document.createElement('div');\n",
              "        docLink.innerHTML = docLinkHtml;\n",
              "        element.appendChild(docLink);\n",
              "      }\n",
              "    </script>\n",
              "  </div>\n",
              "\n",
              "\n",
              "<div id=\"df-eea2287b-e5f8-495c-ae49-24cd28b81005\">\n",
              "  <button class=\"colab-df-quickchart\" onclick=\"quickchart('df-eea2287b-e5f8-495c-ae49-24cd28b81005')\"\n",
              "            title=\"Suggest charts\"\n",
              "            style=\"display:none;\">\n",
              "\n",
              "<svg xmlns=\"http://www.w3.org/2000/svg\" height=\"24px\"viewBox=\"0 0 24 24\"\n",
              "     width=\"24px\">\n",
              "    <g>\n",
              "        <path d=\"M19 3H5c-1.1 0-2 .9-2 2v14c0 1.1.9 2 2 2h14c1.1 0 2-.9 2-2V5c0-1.1-.9-2-2-2zM9 17H7v-7h2v7zm4 0h-2V7h2v10zm4 0h-2v-4h2v4z\"/>\n",
              "    </g>\n",
              "</svg>\n",
              "  </button>\n",
              "\n",
              "<style>\n",
              "  .colab-df-quickchart {\n",
              "      --bg-color: #E8F0FE;\n",
              "      --fill-color: #1967D2;\n",
              "      --hover-bg-color: #E2EBFA;\n",
              "      --hover-fill-color: #174EA6;\n",
              "      --disabled-fill-color: #AAA;\n",
              "      --disabled-bg-color: #DDD;\n",
              "  }\n",
              "\n",
              "  [theme=dark] .colab-df-quickchart {\n",
              "      --bg-color: #3B4455;\n",
              "      --fill-color: #D2E3FC;\n",
              "      --hover-bg-color: #434B5C;\n",
              "      --hover-fill-color: #FFFFFF;\n",
              "      --disabled-bg-color: #3B4455;\n",
              "      --disabled-fill-color: #666;\n",
              "  }\n",
              "\n",
              "  .colab-df-quickchart {\n",
              "    background-color: var(--bg-color);\n",
              "    border: none;\n",
              "    border-radius: 50%;\n",
              "    cursor: pointer;\n",
              "    display: none;\n",
              "    fill: var(--fill-color);\n",
              "    height: 32px;\n",
              "    padding: 0;\n",
              "    width: 32px;\n",
              "  }\n",
              "\n",
              "  .colab-df-quickchart:hover {\n",
              "    background-color: var(--hover-bg-color);\n",
              "    box-shadow: 0 1px 2px rgba(60, 64, 67, 0.3), 0 1px 3px 1px rgba(60, 64, 67, 0.15);\n",
              "    fill: var(--button-hover-fill-color);\n",
              "  }\n",
              "\n",
              "  .colab-df-quickchart-complete:disabled,\n",
              "  .colab-df-quickchart-complete:disabled:hover {\n",
              "    background-color: var(--disabled-bg-color);\n",
              "    fill: var(--disabled-fill-color);\n",
              "    box-shadow: none;\n",
              "  }\n",
              "\n",
              "  .colab-df-spinner {\n",
              "    border: 2px solid var(--fill-color);\n",
              "    border-color: transparent;\n",
              "    border-bottom-color: var(--fill-color);\n",
              "    animation:\n",
              "      spin 1s steps(1) infinite;\n",
              "  }\n",
              "\n",
              "  @keyframes spin {\n",
              "    0% {\n",
              "      border-color: transparent;\n",
              "      border-bottom-color: var(--fill-color);\n",
              "      border-left-color: var(--fill-color);\n",
              "    }\n",
              "    20% {\n",
              "      border-color: transparent;\n",
              "      border-left-color: var(--fill-color);\n",
              "      border-top-color: var(--fill-color);\n",
              "    }\n",
              "    30% {\n",
              "      border-color: transparent;\n",
              "      border-left-color: var(--fill-color);\n",
              "      border-top-color: var(--fill-color);\n",
              "      border-right-color: var(--fill-color);\n",
              "    }\n",
              "    40% {\n",
              "      border-color: transparent;\n",
              "      border-right-color: var(--fill-color);\n",
              "      border-top-color: var(--fill-color);\n",
              "    }\n",
              "    60% {\n",
              "      border-color: transparent;\n",
              "      border-right-color: var(--fill-color);\n",
              "    }\n",
              "    80% {\n",
              "      border-color: transparent;\n",
              "      border-right-color: var(--fill-color);\n",
              "      border-bottom-color: var(--fill-color);\n",
              "    }\n",
              "    90% {\n",
              "      border-color: transparent;\n",
              "      border-bottom-color: var(--fill-color);\n",
              "    }\n",
              "  }\n",
              "</style>\n",
              "\n",
              "  <script>\n",
              "    async function quickchart(key) {\n",
              "      const quickchartButtonEl =\n",
              "        document.querySelector('#' + key + ' button');\n",
              "      quickchartButtonEl.disabled = true;  // To prevent multiple clicks.\n",
              "      quickchartButtonEl.classList.add('colab-df-spinner');\n",
              "      try {\n",
              "        const charts = await google.colab.kernel.invokeFunction(\n",
              "            'suggestCharts', [key], {});\n",
              "      } catch (error) {\n",
              "        console.error('Error during call to suggestCharts:', error);\n",
              "      }\n",
              "      quickchartButtonEl.classList.remove('colab-df-spinner');\n",
              "      quickchartButtonEl.classList.add('colab-df-quickchart-complete');\n",
              "    }\n",
              "    (() => {\n",
              "      let quickchartButtonEl =\n",
              "        document.querySelector('#df-eea2287b-e5f8-495c-ae49-24cd28b81005 button');\n",
              "      quickchartButtonEl.style.display =\n",
              "        google.colab.kernel.accessAllowed ? 'block' : 'none';\n",
              "    })();\n",
              "  </script>\n",
              "</div>\n",
              "    </div>\n",
              "  </div>\n"
            ],
            "application/vnd.google.colaboratory.intrinsic+json": {
              "type": "dataframe",
              "variable_name": "train",
              "summary": "{\n  \"name\": \"train\",\n  \"rows\": 18960,\n  \"fields\": [\n    {\n      \"column\": \"text\",\n      \"properties\": {\n        \"dtype\": \"string\",\n        \"num_unique_values\": 18960,\n        \"samples\": [\n          \"\\u043e\\u043d\\u0438 \\u043f\\u0440\\u0438\\u043d\\u044f\\u043b\\u0438 \\u043d\\u0430\\u0441 \\u0437\\u0430 \\u043e\\u0442\\u0446\\u0430. f \\u044d\\u0442\\u043e \\u0435\\u0434\\u0438\\u043d\\u0441\\u0442\\u0432\\u0435\\u043d\\u043d\\u043e,\",\n          \"\\u043c\\u0430\\u0440\\u044c\\u044f \\u043f\\u043e\\u0442\\u044f\\u043d\\u0443\\u043b\\u0430\\u0441\\u044c \\u043a \\u0431\\u0440\\u0430\\u0442\\u0443 \\u0438 \\u043f\\u043e\\u0446\\u0435\\u043b\\u043e\\u0432\\u0430\\u043b\\u0430 \\u0435\\u0433\\u043e, \\u0441\\u043b\\u0435\\u0433\\u043a\\u0430 \\u0437\\u0430\\u0446\\u0435\\u043f\\u0438\\u0432 \\u0437\\u0430 \\u043f\\u043e\\u043b\\u043e\\u0433 \\u043a\\u0440\\u043e\\u0432\\u0430\\u0442\\u043a\\u0438. \\u043e\\u043d\\u0438\",\n          \"\\u0441\\u043b\\u043e\\u0432\\u043e, \\u043a\\u0430\\u043a \\u0431\\u0443\\u0434\\u0442\\u043e \\u043e\\u043d \\u0441\\u043a\\u0430\\u0437\\u0430\\u043b: \\u00ab\\u0434\\u0430, \\u043d\\u0435\\u0441\\u0447\\u0430\\u0441\\u0442\\u044c\\u0435, \\u043a\\u0430\\u043a \\u0432\\u044b \\u043d\\u0438 \\u043d\\u0430\\u0437\\u044b\\u0432\\u0430\\u0439\\u0442\\u0435, \\u044f \\u0437\\u043d\\u0430\\u044e, \\u0447\\u0442\\u043e \\u0442\\u043e,\"\n        ],\n        \"semantic_type\": \"\",\n        \"description\": \"\"\n      }\n    },\n    {\n      \"column\": \"label\",\n      \"properties\": {\n        \"dtype\": \"string\",\n        \"num_unique_values\": 18960,\n        \"samples\": [\n          \"\\u043e\\u043d\\u0438 \\u043f\\u0440\\u0438\\u043d\\u044f\\u043b\\u0438 \\u043d\\u0430\\u0441 \\u0437\\u0430 \\u043e\\u0442\\u0446\\u0430. \\u0430 \\u044d\\u0442\\u043e \\u0435\\u0434\\u0438\\u043d\\u0441\\u0442\\u0432\\u0435\\u043d\\u043d\\u043e,\",\n          \"\\u043c\\u0430\\u0440\\u044c\\u044f \\u043f\\u043e\\u0442\\u044f\\u043d\\u0443\\u043b\\u0430\\u0441\\u044c \\u043a \\u0431\\u0440\\u0430\\u0442\\u0443 \\u0438 \\u043f\\u043e\\u0446\\u0435\\u043b\\u043e\\u0432\\u0430\\u043b\\u0430 \\u0435\\u0433\\u043e, \\u0441\\u043b\\u0435\\u0433\\u043a\\u0430 \\u0437\\u0430\\u0446\\u0435\\u043f\\u0438\\u0432 \\u0437\\u0430 \\u043f\\u043e\\u043b\\u043e\\u0433 \\u043a\\u0440\\u043e\\u0432\\u0430\\u0442\\u043a\\u0438. \\u043e\\u043d\\u0438\",\n          \"\\u0441\\u043b\\u043e\\u0432\\u043e, \\u043a\\u0430\\u043a \\u0431\\u0443\\u0434\\u0442\\u043e \\u043e\\u043d \\u0441\\u043a\\u0430\\u0437\\u0430\\u043b: \\u00ab\\u0434\\u0430, \\u043d\\u0435\\u0441\\u0447\\u0430\\u0441\\u0442\\u044c\\u0435, \\u043a\\u0430\\u043a \\u0432\\u044b \\u043d\\u0438 \\u043d\\u0430\\u0437\\u044b\\u0432\\u0430\\u0439\\u0442\\u0435, \\u044f \\u0437\\u043d\\u0430\\u044e, \\u0447\\u0442\\u043e \\u0442\\u043e,\"\n        ],\n        \"semantic_type\": \"\",\n        \"description\": \"\"\n      }\n    }\n  ]\n}"
            }
          },
          "metadata": {},
          "execution_count": 5
        }
      ]
    },
    {
      "cell_type": "code",
      "source": [
        "test.head()"
      ],
      "metadata": {
        "colab": {
          "base_uri": "https://localhost:8080/",
          "height": 206
        },
        "id": "eO7QecU84Sdp",
        "outputId": "bffaba52-cee7-48db-c6ea-fbcb207d16cf"
      },
      "execution_count": null,
      "outputs": [
        {
          "output_type": "execute_result",
          "data": {
            "text/plain": [
              "                                                text\n",
              "0  кутузов? – быстро проговорил приезжий генерал ...\n",
              "1          ценит он друга и как много ждет от него d\n",
              "2  (видно, передние остановились), и пронесся слу...\n",
              "3  – обратились вдруг офицеры r вошедшему. – похо...\n",
              "4  сила не может низвергнуть, есть сохранение и п..."
            ],
            "text/html": [
              "\n",
              "  <div id=\"df-80a31364-712c-4fc5-889d-cde5bab2e7e3\" class=\"colab-df-container\">\n",
              "    <div>\n",
              "<style scoped>\n",
              "    .dataframe tbody tr th:only-of-type {\n",
              "        vertical-align: middle;\n",
              "    }\n",
              "\n",
              "    .dataframe tbody tr th {\n",
              "        vertical-align: top;\n",
              "    }\n",
              "\n",
              "    .dataframe thead th {\n",
              "        text-align: right;\n",
              "    }\n",
              "</style>\n",
              "<table border=\"1\" class=\"dataframe\">\n",
              "  <thead>\n",
              "    <tr style=\"text-align: right;\">\n",
              "      <th></th>\n",
              "      <th>text</th>\n",
              "    </tr>\n",
              "  </thead>\n",
              "  <tbody>\n",
              "    <tr>\n",
              "      <th>0</th>\n",
              "      <td>кутузов? – быстро проговорил приезжий генерал ...</td>\n",
              "    </tr>\n",
              "    <tr>\n",
              "      <th>1</th>\n",
              "      <td>ценит он друга и как много ждет от него d</td>\n",
              "    </tr>\n",
              "    <tr>\n",
              "      <th>2</th>\n",
              "      <td>(видно, передние остановились), и пронесся слу...</td>\n",
              "    </tr>\n",
              "    <tr>\n",
              "      <th>3</th>\n",
              "      <td>– обратились вдруг офицеры r вошедшему. – похо...</td>\n",
              "    </tr>\n",
              "    <tr>\n",
              "      <th>4</th>\n",
              "      <td>сила не может низвергнуть, есть сохранение и п...</td>\n",
              "    </tr>\n",
              "  </tbody>\n",
              "</table>\n",
              "</div>\n",
              "    <div class=\"colab-df-buttons\">\n",
              "\n",
              "  <div class=\"colab-df-container\">\n",
              "    <button class=\"colab-df-convert\" onclick=\"convertToInteractive('df-80a31364-712c-4fc5-889d-cde5bab2e7e3')\"\n",
              "            title=\"Convert this dataframe to an interactive table.\"\n",
              "            style=\"display:none;\">\n",
              "\n",
              "  <svg xmlns=\"http://www.w3.org/2000/svg\" height=\"24px\" viewBox=\"0 -960 960 960\">\n",
              "    <path d=\"M120-120v-720h720v720H120Zm60-500h600v-160H180v160Zm220 220h160v-160H400v160Zm0 220h160v-160H400v160ZM180-400h160v-160H180v160Zm440 0h160v-160H620v160ZM180-180h160v-160H180v160Zm440 0h160v-160H620v160Z\"/>\n",
              "  </svg>\n",
              "    </button>\n",
              "\n",
              "  <style>\n",
              "    .colab-df-container {\n",
              "      display:flex;\n",
              "      gap: 12px;\n",
              "    }\n",
              "\n",
              "    .colab-df-convert {\n",
              "      background-color: #E8F0FE;\n",
              "      border: none;\n",
              "      border-radius: 50%;\n",
              "      cursor: pointer;\n",
              "      display: none;\n",
              "      fill: #1967D2;\n",
              "      height: 32px;\n",
              "      padding: 0 0 0 0;\n",
              "      width: 32px;\n",
              "    }\n",
              "\n",
              "    .colab-df-convert:hover {\n",
              "      background-color: #E2EBFA;\n",
              "      box-shadow: 0px 1px 2px rgba(60, 64, 67, 0.3), 0px 1px 3px 1px rgba(60, 64, 67, 0.15);\n",
              "      fill: #174EA6;\n",
              "    }\n",
              "\n",
              "    .colab-df-buttons div {\n",
              "      margin-bottom: 4px;\n",
              "    }\n",
              "\n",
              "    [theme=dark] .colab-df-convert {\n",
              "      background-color: #3B4455;\n",
              "      fill: #D2E3FC;\n",
              "    }\n",
              "\n",
              "    [theme=dark] .colab-df-convert:hover {\n",
              "      background-color: #434B5C;\n",
              "      box-shadow: 0px 1px 3px 1px rgba(0, 0, 0, 0.15);\n",
              "      filter: drop-shadow(0px 1px 2px rgba(0, 0, 0, 0.3));\n",
              "      fill: #FFFFFF;\n",
              "    }\n",
              "  </style>\n",
              "\n",
              "    <script>\n",
              "      const buttonEl =\n",
              "        document.querySelector('#df-80a31364-712c-4fc5-889d-cde5bab2e7e3 button.colab-df-convert');\n",
              "      buttonEl.style.display =\n",
              "        google.colab.kernel.accessAllowed ? 'block' : 'none';\n",
              "\n",
              "      async function convertToInteractive(key) {\n",
              "        const element = document.querySelector('#df-80a31364-712c-4fc5-889d-cde5bab2e7e3');\n",
              "        const dataTable =\n",
              "          await google.colab.kernel.invokeFunction('convertToInteractive',\n",
              "                                                    [key], {});\n",
              "        if (!dataTable) return;\n",
              "\n",
              "        const docLinkHtml = 'Like what you see? Visit the ' +\n",
              "          '<a target=\"_blank\" href=https://colab.research.google.com/notebooks/data_table.ipynb>data table notebook</a>'\n",
              "          + ' to learn more about interactive tables.';\n",
              "        element.innerHTML = '';\n",
              "        dataTable['output_type'] = 'display_data';\n",
              "        await google.colab.output.renderOutput(dataTable, element);\n",
              "        const docLink = document.createElement('div');\n",
              "        docLink.innerHTML = docLinkHtml;\n",
              "        element.appendChild(docLink);\n",
              "      }\n",
              "    </script>\n",
              "  </div>\n",
              "\n",
              "\n",
              "<div id=\"df-bad1df02-4f04-4eba-aaab-0d5f985d419b\">\n",
              "  <button class=\"colab-df-quickchart\" onclick=\"quickchart('df-bad1df02-4f04-4eba-aaab-0d5f985d419b')\"\n",
              "            title=\"Suggest charts\"\n",
              "            style=\"display:none;\">\n",
              "\n",
              "<svg xmlns=\"http://www.w3.org/2000/svg\" height=\"24px\"viewBox=\"0 0 24 24\"\n",
              "     width=\"24px\">\n",
              "    <g>\n",
              "        <path d=\"M19 3H5c-1.1 0-2 .9-2 2v14c0 1.1.9 2 2 2h14c1.1 0 2-.9 2-2V5c0-1.1-.9-2-2-2zM9 17H7v-7h2v7zm4 0h-2V7h2v10zm4 0h-2v-4h2v4z\"/>\n",
              "    </g>\n",
              "</svg>\n",
              "  </button>\n",
              "\n",
              "<style>\n",
              "  .colab-df-quickchart {\n",
              "      --bg-color: #E8F0FE;\n",
              "      --fill-color: #1967D2;\n",
              "      --hover-bg-color: #E2EBFA;\n",
              "      --hover-fill-color: #174EA6;\n",
              "      --disabled-fill-color: #AAA;\n",
              "      --disabled-bg-color: #DDD;\n",
              "  }\n",
              "\n",
              "  [theme=dark] .colab-df-quickchart {\n",
              "      --bg-color: #3B4455;\n",
              "      --fill-color: #D2E3FC;\n",
              "      --hover-bg-color: #434B5C;\n",
              "      --hover-fill-color: #FFFFFF;\n",
              "      --disabled-bg-color: #3B4455;\n",
              "      --disabled-fill-color: #666;\n",
              "  }\n",
              "\n",
              "  .colab-df-quickchart {\n",
              "    background-color: var(--bg-color);\n",
              "    border: none;\n",
              "    border-radius: 50%;\n",
              "    cursor: pointer;\n",
              "    display: none;\n",
              "    fill: var(--fill-color);\n",
              "    height: 32px;\n",
              "    padding: 0;\n",
              "    width: 32px;\n",
              "  }\n",
              "\n",
              "  .colab-df-quickchart:hover {\n",
              "    background-color: var(--hover-bg-color);\n",
              "    box-shadow: 0 1px 2px rgba(60, 64, 67, 0.3), 0 1px 3px 1px rgba(60, 64, 67, 0.15);\n",
              "    fill: var(--button-hover-fill-color);\n",
              "  }\n",
              "\n",
              "  .colab-df-quickchart-complete:disabled,\n",
              "  .colab-df-quickchart-complete:disabled:hover {\n",
              "    background-color: var(--disabled-bg-color);\n",
              "    fill: var(--disabled-fill-color);\n",
              "    box-shadow: none;\n",
              "  }\n",
              "\n",
              "  .colab-df-spinner {\n",
              "    border: 2px solid var(--fill-color);\n",
              "    border-color: transparent;\n",
              "    border-bottom-color: var(--fill-color);\n",
              "    animation:\n",
              "      spin 1s steps(1) infinite;\n",
              "  }\n",
              "\n",
              "  @keyframes spin {\n",
              "    0% {\n",
              "      border-color: transparent;\n",
              "      border-bottom-color: var(--fill-color);\n",
              "      border-left-color: var(--fill-color);\n",
              "    }\n",
              "    20% {\n",
              "      border-color: transparent;\n",
              "      border-left-color: var(--fill-color);\n",
              "      border-top-color: var(--fill-color);\n",
              "    }\n",
              "    30% {\n",
              "      border-color: transparent;\n",
              "      border-left-color: var(--fill-color);\n",
              "      border-top-color: var(--fill-color);\n",
              "      border-right-color: var(--fill-color);\n",
              "    }\n",
              "    40% {\n",
              "      border-color: transparent;\n",
              "      border-right-color: var(--fill-color);\n",
              "      border-top-color: var(--fill-color);\n",
              "    }\n",
              "    60% {\n",
              "      border-color: transparent;\n",
              "      border-right-color: var(--fill-color);\n",
              "    }\n",
              "    80% {\n",
              "      border-color: transparent;\n",
              "      border-right-color: var(--fill-color);\n",
              "      border-bottom-color: var(--fill-color);\n",
              "    }\n",
              "    90% {\n",
              "      border-color: transparent;\n",
              "      border-bottom-color: var(--fill-color);\n",
              "    }\n",
              "  }\n",
              "</style>\n",
              "\n",
              "  <script>\n",
              "    async function quickchart(key) {\n",
              "      const quickchartButtonEl =\n",
              "        document.querySelector('#' + key + ' button');\n",
              "      quickchartButtonEl.disabled = true;  // To prevent multiple clicks.\n",
              "      quickchartButtonEl.classList.add('colab-df-spinner');\n",
              "      try {\n",
              "        const charts = await google.colab.kernel.invokeFunction(\n",
              "            'suggestCharts', [key], {});\n",
              "      } catch (error) {\n",
              "        console.error('Error during call to suggestCharts:', error);\n",
              "      }\n",
              "      quickchartButtonEl.classList.remove('colab-df-spinner');\n",
              "      quickchartButtonEl.classList.add('colab-df-quickchart-complete');\n",
              "    }\n",
              "    (() => {\n",
              "      let quickchartButtonEl =\n",
              "        document.querySelector('#df-bad1df02-4f04-4eba-aaab-0d5f985d419b button');\n",
              "      quickchartButtonEl.style.display =\n",
              "        google.colab.kernel.accessAllowed ? 'block' : 'none';\n",
              "    })();\n",
              "  </script>\n",
              "</div>\n",
              "    </div>\n",
              "  </div>\n"
            ],
            "application/vnd.google.colaboratory.intrinsic+json": {
              "type": "dataframe",
              "variable_name": "test",
              "summary": "{\n  \"name\": \"test\",\n  \"rows\": 4740,\n  \"fields\": [\n    {\n      \"column\": \"text\",\n      \"properties\": {\n        \"dtype\": \"string\",\n        \"num_unique_values\": 4739,\n        \"samples\": [\n          \"\\u0432\\u043e\\u0437\\u0440\\u0430\\u0436\\u0435\\u043d\\u0438\\u044f \\u043e\\u0442 \\u0440\\u0443\\u0441\\u0441\\u043a\\u0438\\u0445 \\u0433\\u0435\\u043d\\u0435\\u0440\\u0430\\u043b\\u043e\\u0432 b \\u0434\\u043e\\u043a\\u0430\\u0437\\u044b\\u0432\\u0430\\u0442\\u044c \\u0442\\u043e, \\u0432 \\u0447\\u0435\\u043c\",\n          \"\\u2013 mais tres bien. \\u2013 \\u043e\\u043d \\u043f\\u043e\\u0446\\u0435\\u043b\\u043e\\u0432\\u0430\\u043b \\u043a\\u043e\\u043d\\u0447\\u0438\\u043a\\u0438 \\u0441\\u0432\\u043e\\u0438\\u0445 \\u043f\\u0430\\u043b\\u044c\\u0446\\u0435\\u0432. \\u2013 et\",\n          \"\\u043f\\u043e\\u043a\\u0430 \\u0442\\u044b \\u043d\\u0435 edblbim \\u0435\\u0435 \\u044f\\u0441\\u043d\\u043e,\"\n        ],\n        \"semantic_type\": \"\",\n        \"description\": \"\"\n      }\n    }\n  ]\n}"
            }
          },
          "metadata": {},
          "execution_count": 6
        }
      ]
    },
    {
      "cell_type": "code",
      "source": [
        "res = set()\n",
        "for text in train.text:\n",
        "    for s in text:\n",
        "        if not s.islower():\n",
        "            res.add(s)"
      ],
      "metadata": {
        "id": "dO--mVz15M2I"
      },
      "execution_count": null,
      "outputs": []
    },
    {
      "cell_type": "code",
      "source": [
        "res"
      ],
      "metadata": {
        "colab": {
          "base_uri": "https://localhost:8080/"
        },
        "id": "mbjjc1ns52VK",
        "outputId": "d3fd7116-cbbf-4b08-95a1-990903bd0a49"
      },
      "execution_count": null,
      "outputs": [
        {
          "output_type": "execute_result",
          "data": {
            "text/plain": [
              "{' ',\n",
              " '!',\n",
              " \"'\",\n",
              " '(',\n",
              " ')',\n",
              " '*',\n",
              " ',',\n",
              " '-',\n",
              " '.',\n",
              " '0',\n",
              " '1',\n",
              " '2',\n",
              " '3',\n",
              " '4',\n",
              " '5',\n",
              " '6',\n",
              " '7',\n",
              " '8',\n",
              " '9',\n",
              " ':',\n",
              " ';',\n",
              " '<',\n",
              " '>',\n",
              " '?',\n",
              " '[',\n",
              " ']',\n",
              " '`',\n",
              " '«',\n",
              " '»',\n",
              " '–',\n",
              " '—',\n",
              " '’',\n",
              " '“',\n",
              " '„',\n",
              " '…'}"
            ]
          },
          "metadata": {},
          "execution_count": 18
        }
      ]
    },
    {
      "cell_type": "code",
      "source": [
        "ru_to_en = {\n",
        "    'й':'q', 'ц':'w', 'у':'e', 'к':'r', 'е':'t', 'н':'y', 'г':'u', 'ш':'i', 'щ':'o', 'з':'p',\n",
        "    'ф':'a', 'ы':'s', 'в':'d', 'а':'f', 'п':'g', 'р':'h', 'о':'j', 'л':'k', 'д':'l', 'ж': ';',\n",
        "    'я':'z', 'ч':'x', 'с':'c', 'м':'v', 'и':'b', 'т':'n', 'ь':'m',\n",
        "    'б':',', 'ю':'.', 'ё':'`'\n",
        "}\n",
        "\n",
        "en_to_ru = {v: k for k, v in ru_to_en.items()}"
      ],
      "metadata": {
        "id": "7Vlveo8y6Z6a"
      },
      "execution_count": null,
      "outputs": []
    },
    {
      "cell_type": "code",
      "source": [
        "ru_set = set(ru_to_en)\n",
        "en_set = set(en_to_ru)\n",
        "\n",
        "def maybe_change(row: str) -> str:\n",
        "    line = row.split()\n",
        "    n = len(line)\n",
        "    mask = [0] * n\n",
        "\n",
        "    for i in range(n):\n",
        "        now = set(line[i])\n",
        "        fi = len(ru_set | now)\n",
        "        se = len(en_set | now)\n",
        "        if fi > se:\n",
        "            mask[i] += 1\n",
        "        elif se > fi:\n",
        "            mask[i] -= 1\n",
        "\n",
        "    for i in range(n):\n",
        "        l, m, r = i - 1, i, (i + 1) % n\n",
        "        if mask[m] == 0:\n",
        "            continue\n",
        "        if mask[l] == mask[r]  and mask[m] != mask[l]:\n",
        "            if mask[m] == 1:\n",
        "                line[i] = ''.join(en_to_ru[s] if s in en_to_ru else s for s in line[i])\n",
        "            else:\n",
        "                line[i] = ''.join(ru_to_en[s] if s in ru_to_en else s for s in line[i])\n",
        "            return ' '.join(line)\n",
        "\n",
        "    return row"
      ],
      "metadata": {
        "id": "ilg6nTGk6jyO"
      },
      "execution_count": null,
      "outputs": []
    },
    {
      "cell_type": "code",
      "source": [
        "(train.text.apply(maybe_change) == train.label).sum() / train.shape[0]"
      ],
      "metadata": {
        "colab": {
          "base_uri": "https://localhost:8080/"
        },
        "id": "8pHrq5R86-2I",
        "outputId": "c7c0206c-9be9-4e47-83af-058ba7d6111f"
      },
      "execution_count": null,
      "outputs": [
        {
          "output_type": "execute_result",
          "data": {
            "text/plain": [
              "0.9021624472573839"
            ]
          },
          "metadata": {},
          "execution_count": 56
        }
      ]
    },
    {
      "cell_type": "code",
      "source": [
        "subm = test.text.apply(maybe_change)"
      ],
      "metadata": {
        "id": "gAl9yPVk-8mw"
      },
      "execution_count": null,
      "outputs": []
    },
    {
      "cell_type": "code",
      "source": [
        "subm.to_csv('submit.csv', header=False, index=False, sep='%', quoting=False)"
      ],
      "metadata": {
        "id": "McvcK4cY-Eme"
      },
      "execution_count": null,
      "outputs": []
    }
  ]
}